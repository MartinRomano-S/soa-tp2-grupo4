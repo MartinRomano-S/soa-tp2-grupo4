{
  "nbformat": 4,
  "nbformat_minor": 0,
  "metadata": {
    "colab": {
      "name": "Cuaderno_1_Miércoles_ grupo4_2021.ipynb",
      "provenance": [],
      "collapsed_sections": [],
      "toc_visible": true,
      "authorship_tag": "ABX9TyO52I8BqsvPJ0ZGbCENK18m",
      "include_colab_link": true
    },
    "kernelspec": {
      "name": "python3",
      "display_name": "Python 3"
    },
    "language_info": {
      "name": "python"
    }
  },
  "cells": [
    {
      "cell_type": "markdown",
      "metadata": {
        "id": "view-in-github",
        "colab_type": "text"
      },
      "source": [
        "<a href=\"https://colab.research.google.com/github/MartinRomano-S/soa-tp2-tp3-grupo4/blob/master/HPC/Cuaderno_1_Mi%C3%A9rcoles__grupo4_2021.ipynb\" target=\"_parent\"><img src=\"https://colab.research.google.com/assets/colab-badge.svg\" alt=\"Open In Colab\"/></a>"
      ]
    },
    {
      "cell_type": "markdown",
      "metadata": {
        "id": "zqe4lYHISX_a"
      },
      "source": [
        "#Cuaderno 1 - Miércoles - Grupo 4: High Pass Filter\n"
      ]
    }
  ]
}